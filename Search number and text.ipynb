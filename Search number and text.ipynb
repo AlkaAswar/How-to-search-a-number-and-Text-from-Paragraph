{
 "cells": [
  {
   "cell_type": "markdown",
   "id": "d8545db9",
   "metadata": {},
   "source": [
    "## Regular Expression"
   ]
  },
  {
   "cell_type": "markdown",
   "id": "c77758d7",
   "metadata": {},
   "source": [
    "#### Search number"
   ]
  },
  {
   "cell_type": "code",
   "execution_count": 2,
   "id": "a56d4c7c",
   "metadata": {},
   "outputs": [
    {
     "name": "stdout",
     "output_type": "stream",
     "text": [
      "<re.Match object; span=(4, 7), match='123'>\n",
      "<re.Match object; span=(12, 15), match='456'>\n",
      "<re.Match object; span=(20, 23), match='100'>\n"
     ]
    }
   ],
   "source": [
    "import re #1\n",
    "text = 'ABC 123 XYZ 456 @&! 100'\n",
    "pattern = re.compile(r'\\d\\d\\d') #2\n",
    "#or pattern = re.compile(r'\\d{3}') #2\n",
    "\n",
    "matches =pattern.finditer(text) #3\n",
    "for match in matches:\n",
    "    #print(match)"
   ]
  },
  {
   "cell_type": "code",
   "execution_count": 5,
   "id": "0254abe3",
   "metadata": {},
   "outputs": [
    {
     "name": "stdout",
     "output_type": "stream",
     "text": [
      "17-Apr-2021\n",
      "16-Apr-2021\n",
      "18-Apr-2021\n",
      "26-04-2021\n",
      "06.05.2021\n"
     ]
    }
   ],
   "source": [
    "import re\n",
    "text= '''\n",
    "HI,today is 17-Apr-2021, yesterday was 16-Apr-2021 and tomorrow will\n",
    "be 18-Apr-2021.\n",
    "My schedule is free on 26-04-2021, 06.05.2021 and 16/June/2021.\n",
    "You can reach out to me at myname2020@dummy.com or\n",
    "ask_help@demo.net & conference@demo.co.in\n",
    "You can also call me at one the following no's +6032-007 1212,\n",
    "+6099.100 33 44, 017-9998800 etc.\n",
    "'''\n",
    "\n",
    "datePattern = re.compile(r'\\d{2}[-./]([a-zA-Z]{3}|\\d{2})[-./]\\d{4}')\n",
    "matches = datePattern.finditer(text)\n",
    "\n",
    "for match in matches:\n",
    "    print(match.group())\n",
    "    "
   ]
  },
  {
   "cell_type": "code",
   "execution_count": 7,
   "id": "29037da2",
   "metadata": {
    "scrolled": true
   },
   "outputs": [
    {
     "name": "stdout",
     "output_type": "stream",
     "text": [
      "myname2020@dummy.com\n",
      "ask_help@demo.net\n",
      "conference@demo.co.in\n"
     ]
    }
   ],
   "source": [
    "emailPattern = re.compile(r'\\w+@[a-z]+(\\.[a-z]{2,3})+')\n",
    "matches = emailPattern.finditer(text)\n",
    "for match in matches:\n",
    "    print(match.group())"
   ]
  },
  {
   "cell_type": "code",
   "execution_count": null,
   "id": "8d76ac16",
   "metadata": {},
   "outputs": [],
   "source": []
  }
 ],
 "metadata": {
  "kernelspec": {
   "display_name": "Python 3 (ipykernel)",
   "language": "python",
   "name": "python3"
  },
  "language_info": {
   "codemirror_mode": {
    "name": "ipython",
    "version": 3
   },
   "file_extension": ".py",
   "mimetype": "text/x-python",
   "name": "python",
   "nbconvert_exporter": "python",
   "pygments_lexer": "ipython3",
   "version": "3.9.7"
  }
 },
 "nbformat": 4,
 "nbformat_minor": 5
}
